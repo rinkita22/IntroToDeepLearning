{
 "cells": [
  {
   "cell_type": "markdown",
   "metadata": {},
   "source": [
    "# Introduction to our Submission System\n",
    "\n",
    "In this exercise you will:\n",
    "\n",
    "- Learn how to work with ipython notebooks\n",
    "- See the interaction with external python code\n",
    "- Do random stuff\n",
    "\n",
    "Run cells with __Shift + Enter__"
   ]
  },
  {
   "cell_type": "markdown",
   "metadata": {},
   "source": [
    "## Ipython Notebooks\n",
    "An IPython notebook is made up of a number of cells. Each cell can contain Python code. You can execute a cell by clicking on it and pressing [Shift-Enter]. When you do so, the code in the cell will run, and the output of the cell will be displayed beneath the cell. For example, after running the first cell the notebook looks like this:"
   ]
  },
  {
   "cell_type": "code",
   "execution_count": 1,
   "metadata": {},
   "outputs": [
    {
     "name": "stdout",
     "output_type": "stream",
     "text": [
      "8\n"
     ]
    }
   ],
   "source": [
    "x = 5\n",
    "print(x+3)\n"
   ]
  },
  {
   "cell_type": "markdown",
   "metadata": {},
   "source": [
    "Global variables are shared between cells. Therefore, we can access __x__ in the next cell."
   ]
  },
  {
   "cell_type": "code",
   "execution_count": 2,
   "metadata": {},
   "outputs": [
    {
     "name": "stdout",
     "output_type": "stream",
     "text": [
      "15\n"
     ]
    }
   ],
   "source": [
    "print(x+10)"
   ]
  },
  {
   "cell_type": "markdown",
   "metadata": {},
   "source": [
    "By convention, IPython notebooks are expected to be run from top to bottom. Failing to execute some cells or executing cells out of order can result in errors:"
   ]
  },
  {
   "cell_type": "code",
   "execution_count": 5,
   "metadata": {},
   "outputs": [
    {
     "name": "stdout",
     "output_type": "stream",
     "text": [
      "8\n"
     ]
    }
   ],
   "source": [
    "print(x+y)"
   ]
  },
  {
   "cell_type": "code",
   "execution_count": 6,
   "metadata": {},
   "outputs": [],
   "source": [
    "y = 3"
   ]
  },
  {
   "cell_type": "markdown",
   "metadata": {},
   "source": [
    "After you have modified an IPython notebook for one of the assignments by modifying or executing some of its cells, remember to __save your changes__!\n",
    "\n",
    "We start every notebook with a cell containg the important imports.\n"
   ]
  },
  {
   "cell_type": "code",
   "execution_count": 7,
   "metadata": {},
   "outputs": [],
   "source": [
    "import time\n",
    "import random\n",
    "import math\n",
    "import numpy as np\n",
    "import matplotlib.pyplot as plt\n",
    "%matplotlib inline\n",
    "plt.rcParams['figure.figsize'] = (10.0, 8.0) # set default size of plots\n",
    "plt.rcParams['image.interpolation'] = 'nearest'\n",
    "plt.rcParams['image.cmap'] = 'gray'\n",
    "\n",
    "# for auto-reloading extenrnal modules\n",
    "# see http://stackoverflow.com/questions/1907993/autoreload-of-modules-in-ipython\n",
    "%load_ext autoreload\n",
    "%autoreload 2"
   ]
  },
  {
   "cell_type": "markdown",
   "metadata": {},
   "source": [
    "## Data Loading#\n",
    "To your convenience, we prepared all datasets and wrote functions to download the required data for every exercise. In order to get download the datasets execute the __download_dataset.sh__ script in the respective exercise folder. After doing so, check the __datasets__ folder if you have successfully downloaded the CIFAR-10 dataset.\n",
    "The next cell will load the CIFAR-10 data into our notebook."
   ]
  },
  {
   "cell_type": "code",
   "execution_count": 8,
   "metadata": {
    "scrolled": true
   },
   "outputs": [
    {
     "name": "stdout",
     "output_type": "stream",
     "text": [
      "(50000, 32, 32, 3) (50000,)\n"
     ]
    }
   ],
   "source": [
    "from exercise_code.data_utils import load_CIFAR10\n",
    "# Load the raw CIFAR-10 data\n",
    "cifar10_dir = 'datasets/'\n",
    "X, y = load_CIFAR10(cifar10_dir)\n",
    "print(X.shape, y.shape)"
   ]
  },
  {
   "cell_type": "markdown",
   "metadata": {},
   "source": [
    "<div class=\"alert alert-info\">\n",
    "    <h3>Inline Question</h3>\n",
    "    <p>Sometimes we ask inline questions. We will answer them in the tutorial sessions after the exercise is over.</p>\n",
    "    <p>**Your answer:** </p>\n",
    "</div>"
   ]
  },
  {
   "cell_type": "markdown",
   "metadata": {},
   "source": [
    "## External Files\n",
    "Most of your work will involve implementing certain functions in external python files. These are contained in the __exercise_code__ folder. Check out the __TestClass__ in __exercise_code/test_class.py__ and write yourself a message."
   ]
  },
  {
   "cell_type": "code",
   "execution_count": 9,
   "metadata": {},
   "outputs": [
    {
     "name": "stdout",
     "output_type": "stream",
     "text": [
      "Hello World\n"
     ]
    }
   ],
   "source": [
    "from exercise_code.test_class import TestClass\n",
    "\n",
    "test_class = TestClass()\n",
    "test_class.write()"
   ]
  },
  {
   "cell_type": "markdown",
   "metadata": {},
   "source": [
    "## Model Files and Saving\n",
    "\n",
    "Usually, we ask you to train and submit models. Edit the in __return_score__ function of the __TestSubmission__ class in __exercise_code/test_class.py__. If you return more than __50__, you pass."
   ]
  },
  {
   "cell_type": "code",
   "execution_count": 10,
   "metadata": {},
   "outputs": [
    {
     "name": "stdout",
     "output_type": "stream",
     "text": [
      "Horray, you passed! Now save your model and submit it!\n"
     ]
    }
   ],
   "source": [
    "from exercise_code.test_class import TestModel\n",
    "from exercise_code.data_utils import evaluate\n",
    "\n",
    "# model rename\n",
    "# inline in exercise session\n",
    "model = TestModel()\n",
    "evaluate(model.return_score())"
   ]
  },
  {
   "cell_type": "markdown",
   "metadata": {},
   "source": [
    "Now you need to save the model. We provide you with all the functionality, so you will only need to execute the next cell."
   ]
  },
  {
   "cell_type": "code",
   "execution_count": 11,
   "metadata": {},
   "outputs": [],
   "source": [
    "from exercise_code.model_savers import save_test_model\n",
    "save_test_model(model)"
   ]
  },
  {
   "cell_type": "markdown",
   "metadata": {},
   "source": [
    "<div class=\"alert alert-danger\">\n",
    "    <h3>Warning</h3>\n",
    "    <p>You might get an error like this:</p>\n",
    "    <p>PicklingError: Can't pickle `<class 'exercise_code.test_model.TestModel'>`: it's not the same object as exercise_code.test_class.TestSubmission</p>\n",
    "    <p>The reason is that we are using autoreload and working on this class during the notebook session. If you get this error simply restart the kernel and rerun the whole script (Kernel -> Restart & Run All) or only the important cells for generating your model.</p>\n",
    "</div>"
   ]
  },
  {
   "cell_type": "markdown",
   "metadata": {},
   "source": [
    "## Submission\n",
    "\n",
    "Now, that you have completed the neccessary parts in the notebook, you can go on and submit your files. \n",
    "1. Go on [our submission page](https://dvl.in.tum.de/teaching/submission/), register for an account and login. You will get an id which we need in the next step.\n",
    "2. Run the exercise submission script in the main folder like this\n",
    "`submit_exercise.sh <exercise number, here 0> <your id, e.g. s1234>`\n",
    "3. Log into [our submission page](https://dvl.in.tum.de/teaching/submission/) with your account details where you should be able to see all the submitted \"test_model.p\" file.\n",
    "4. Click on this file and run the submission script. You will get an email with the score you've set earlier in the \"return_score\" function.\n",
    "\n",
    "<img src=\"i2dlsubmission.png\">"
   ]
  },
  {
   "cell_type": "markdown",
   "metadata": {},
   "source": [
    "## Congratz, you finished this introductory notebook!"
   ]
  },
  {
   "cell_type": "markdown",
   "metadata": {},
   "source": [
    "\n",
    "\n",
    "# Optional: Data Preperation\n",
    "\n",
    "Now, you are done with the \"mandatory\" part of this notebook. In the following notebooks, we will supply you with all neccessary tools so you can concentrate on writing the model specific parts as this is the main focus of this class. However, you should also be proficient with handling data and how to prepare it for your specific task.\n",
    "\n",
    "For this, you should consider performing the following steps using numpy comprehensions:\n",
    "1. Before start a classification task you should *always* take a look at some samples of your dataset. This way you can make sure that the data input has worked as intended and you can get a feeling for the dataset. Visualize a subset of the images (X) in the CIFAR-10 dataset in this notebook or a seperate file and identify all ten classes (y). (Hint: Use matplotlib)\n",
    "2. Split the training data into there sets: a \"training\", \"validation\" and \"test\" consisting of 48000, 1000 and 1000 elements.\n",
    "3. In order to run quick experiments, extract a small random subset of the training set which we call \"development\" set.\n",
    "4. Data preprocessing: compute the mean image and substract this image from the images of our datasets. Why is this step helpful for machine learning methods? Research other preprocessing methods that might be useful."
   ]
  },
  {
   "cell_type": "code",
   "execution_count": null,
   "metadata": {},
   "outputs": [],
   "source": [
    "# Your visualization code here..."
   ]
  },
  {
   "cell_type": "code",
   "execution_count": null,
   "metadata": {},
   "outputs": [],
   "source": [
    "X_train = np.zeros((1, 2, 3))\n",
    "X_test = np.zeros((1, 2, 3))\n",
    "X_val = np.zeros((1, 2, 3))\n",
    "X_dev = np.zeros((1, 2, 3))"
   ]
  },
  {
   "cell_type": "code",
   "execution_count": null,
   "metadata": {},
   "outputs": [],
   "source": [
    "print(X_train.shape, X_test.shape, X_val.shape, X_dev.shape)"
   ]
  },
  {
   "cell_type": "code",
   "execution_count": null,
   "metadata": {},
   "outputs": [],
   "source": []
  }
 ],
 "metadata": {
  "kernelspec": {
   "display_name": "Python 3",
   "language": "python",
   "name": "python3"
  },
  "language_info": {
   "codemirror_mode": {
    "name": "ipython",
    "version": 3
   },
   "file_extension": ".py",
   "mimetype": "text/x-python",
   "name": "python",
   "nbconvert_exporter": "python",
   "pygments_lexer": "ipython3",
   "version": "3.6.4"
  }
 },
 "nbformat": 4,
 "nbformat_minor": 1
}
